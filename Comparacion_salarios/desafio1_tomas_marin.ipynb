{
 "cells": [
  {
   "cell_type": "markdown",
   "id": "08ccceaf-c513-494d-a653-e2fb7b7cfd68",
   "metadata": {},
   "source": [
    "# Desafío - Estadística descriptiva y probabilidades (parte I)\n",
    "En este desafío validaremos nuestros conocimientos de estadística descriptiva aprendidos\n",
    "en la sesión. Para lograrlo, necesitarás aplicar lo aprendido, analizando un set de datos\n",
    "asociados a los ingresos obtenidos por la población en base de a la información\n",
    "demográfica entregada en el archivo ds_salaries.csv.\n",
    "Lee todo el documento antes de comenzar el desarrollo individual, para asegurarte de tener\n",
    "el máximo de puntaje y enfocar bien los esfuerzos."
   ]
  },
  {
   "cell_type": "code",
   "execution_count": 2,
   "id": "5e9c9445-d07b-45ef-a435-7a1bf83da644",
   "metadata": {},
   "outputs": [
    {
     "data": {
      "text/html": [
       "<div>\n",
       "<style scoped>\n",
       "    .dataframe tbody tr th:only-of-type {\n",
       "        vertical-align: middle;\n",
       "    }\n",
       "\n",
       "    .dataframe tbody tr th {\n",
       "        vertical-align: top;\n",
       "    }\n",
       "\n",
       "    .dataframe thead th {\n",
       "        text-align: right;\n",
       "    }\n",
       "</style>\n",
       "<table border=\"1\" class=\"dataframe\">\n",
       "  <thead>\n",
       "    <tr style=\"text-align: right;\">\n",
       "      <th></th>\n",
       "      <th>work_year</th>\n",
       "      <th>experience_level</th>\n",
       "      <th>employment_type</th>\n",
       "      <th>job_title</th>\n",
       "      <th>salary</th>\n",
       "      <th>salary_currency</th>\n",
       "      <th>salary_in_usd</th>\n",
       "      <th>employee_residence</th>\n",
       "      <th>remote_ratio</th>\n",
       "      <th>company_location</th>\n",
       "      <th>company_size</th>\n",
       "    </tr>\n",
       "  </thead>\n",
       "  <tbody>\n",
       "    <tr>\n",
       "      <th>0</th>\n",
       "      <td>2023</td>\n",
       "      <td>SE</td>\n",
       "      <td>FT</td>\n",
       "      <td>Principal Data Scientist</td>\n",
       "      <td>80000</td>\n",
       "      <td>EUR</td>\n",
       "      <td>85847</td>\n",
       "      <td>ES</td>\n",
       "      <td>100</td>\n",
       "      <td>ES</td>\n",
       "      <td>L</td>\n",
       "    </tr>\n",
       "    <tr>\n",
       "      <th>1</th>\n",
       "      <td>2023</td>\n",
       "      <td>MI</td>\n",
       "      <td>CT</td>\n",
       "      <td>ML Engineer</td>\n",
       "      <td>30000</td>\n",
       "      <td>USD</td>\n",
       "      <td>30000</td>\n",
       "      <td>US</td>\n",
       "      <td>100</td>\n",
       "      <td>US</td>\n",
       "      <td>S</td>\n",
       "    </tr>\n",
       "    <tr>\n",
       "      <th>2</th>\n",
       "      <td>2023</td>\n",
       "      <td>MI</td>\n",
       "      <td>CT</td>\n",
       "      <td>ML Engineer</td>\n",
       "      <td>25500</td>\n",
       "      <td>USD</td>\n",
       "      <td>25500</td>\n",
       "      <td>US</td>\n",
       "      <td>100</td>\n",
       "      <td>US</td>\n",
       "      <td>S</td>\n",
       "    </tr>\n",
       "    <tr>\n",
       "      <th>3</th>\n",
       "      <td>2023</td>\n",
       "      <td>SE</td>\n",
       "      <td>FT</td>\n",
       "      <td>Data Scientist</td>\n",
       "      <td>175000</td>\n",
       "      <td>USD</td>\n",
       "      <td>175000</td>\n",
       "      <td>CA</td>\n",
       "      <td>100</td>\n",
       "      <td>CA</td>\n",
       "      <td>M</td>\n",
       "    </tr>\n",
       "    <tr>\n",
       "      <th>4</th>\n",
       "      <td>2023</td>\n",
       "      <td>SE</td>\n",
       "      <td>FT</td>\n",
       "      <td>Data Scientist</td>\n",
       "      <td>120000</td>\n",
       "      <td>USD</td>\n",
       "      <td>120000</td>\n",
       "      <td>CA</td>\n",
       "      <td>100</td>\n",
       "      <td>CA</td>\n",
       "      <td>M</td>\n",
       "    </tr>\n",
       "    <tr>\n",
       "      <th>...</th>\n",
       "      <td>...</td>\n",
       "      <td>...</td>\n",
       "      <td>...</td>\n",
       "      <td>...</td>\n",
       "      <td>...</td>\n",
       "      <td>...</td>\n",
       "      <td>...</td>\n",
       "      <td>...</td>\n",
       "      <td>...</td>\n",
       "      <td>...</td>\n",
       "      <td>...</td>\n",
       "    </tr>\n",
       "    <tr>\n",
       "      <th>3750</th>\n",
       "      <td>2020</td>\n",
       "      <td>SE</td>\n",
       "      <td>FT</td>\n",
       "      <td>Data Scientist</td>\n",
       "      <td>412000</td>\n",
       "      <td>USD</td>\n",
       "      <td>412000</td>\n",
       "      <td>US</td>\n",
       "      <td>100</td>\n",
       "      <td>US</td>\n",
       "      <td>L</td>\n",
       "    </tr>\n",
       "    <tr>\n",
       "      <th>3751</th>\n",
       "      <td>2021</td>\n",
       "      <td>MI</td>\n",
       "      <td>FT</td>\n",
       "      <td>Principal Data Scientist</td>\n",
       "      <td>151000</td>\n",
       "      <td>USD</td>\n",
       "      <td>151000</td>\n",
       "      <td>US</td>\n",
       "      <td>100</td>\n",
       "      <td>US</td>\n",
       "      <td>L</td>\n",
       "    </tr>\n",
       "    <tr>\n",
       "      <th>3752</th>\n",
       "      <td>2020</td>\n",
       "      <td>EN</td>\n",
       "      <td>FT</td>\n",
       "      <td>Data Scientist</td>\n",
       "      <td>105000</td>\n",
       "      <td>USD</td>\n",
       "      <td>105000</td>\n",
       "      <td>US</td>\n",
       "      <td>100</td>\n",
       "      <td>US</td>\n",
       "      <td>S</td>\n",
       "    </tr>\n",
       "    <tr>\n",
       "      <th>3753</th>\n",
       "      <td>2020</td>\n",
       "      <td>EN</td>\n",
       "      <td>CT</td>\n",
       "      <td>Business Data Analyst</td>\n",
       "      <td>100000</td>\n",
       "      <td>USD</td>\n",
       "      <td>100000</td>\n",
       "      <td>US</td>\n",
       "      <td>100</td>\n",
       "      <td>US</td>\n",
       "      <td>L</td>\n",
       "    </tr>\n",
       "    <tr>\n",
       "      <th>3754</th>\n",
       "      <td>2021</td>\n",
       "      <td>SE</td>\n",
       "      <td>FT</td>\n",
       "      <td>Data Science Manager</td>\n",
       "      <td>7000000</td>\n",
       "      <td>INR</td>\n",
       "      <td>94665</td>\n",
       "      <td>IN</td>\n",
       "      <td>50</td>\n",
       "      <td>IN</td>\n",
       "      <td>L</td>\n",
       "    </tr>\n",
       "  </tbody>\n",
       "</table>\n",
       "<p>3755 rows × 11 columns</p>\n",
       "</div>"
      ],
      "text/plain": [
       "      work_year experience_level employment_type                 job_title  \\\n",
       "0          2023               SE              FT  Principal Data Scientist   \n",
       "1          2023               MI              CT               ML Engineer   \n",
       "2          2023               MI              CT               ML Engineer   \n",
       "3          2023               SE              FT            Data Scientist   \n",
       "4          2023               SE              FT            Data Scientist   \n",
       "...         ...              ...             ...                       ...   \n",
       "3750       2020               SE              FT            Data Scientist   \n",
       "3751       2021               MI              FT  Principal Data Scientist   \n",
       "3752       2020               EN              FT            Data Scientist   \n",
       "3753       2020               EN              CT     Business Data Analyst   \n",
       "3754       2021               SE              FT      Data Science Manager   \n",
       "\n",
       "       salary salary_currency  salary_in_usd employee_residence  remote_ratio  \\\n",
       "0       80000             EUR          85847                 ES           100   \n",
       "1       30000             USD          30000                 US           100   \n",
       "2       25500             USD          25500                 US           100   \n",
       "3      175000             USD         175000                 CA           100   \n",
       "4      120000             USD         120000                 CA           100   \n",
       "...       ...             ...            ...                ...           ...   \n",
       "3750   412000             USD         412000                 US           100   \n",
       "3751   151000             USD         151000                 US           100   \n",
       "3752   105000             USD         105000                 US           100   \n",
       "3753   100000             USD         100000                 US           100   \n",
       "3754  7000000             INR          94665                 IN            50   \n",
       "\n",
       "     company_location company_size  \n",
       "0                  ES            L  \n",
       "1                  US            S  \n",
       "2                  US            S  \n",
       "3                  CA            M  \n",
       "4                  CA            M  \n",
       "...               ...          ...  \n",
       "3750               US            L  \n",
       "3751               US            L  \n",
       "3752               US            S  \n",
       "3753               US            L  \n",
       "3754               IN            L  \n",
       "\n",
       "[3755 rows x 11 columns]"
      ]
     },
     "execution_count": 2,
     "metadata": {},
     "output_type": "execute_result"
    }
   ],
   "source": [
    "import pandas as pd\n",
    "\n",
    "salarios = pd.read_csv('ds_salaries.csv',delimiter=',')\n",
    "salarios   "
   ]
  },
  {
   "cell_type": "code",
   "execution_count": 3,
   "id": "89b65c6f-f387-452d-a5d2-2c11b33ae73e",
   "metadata": {},
   "outputs": [
    {
     "data": {
      "text/plain": [
       "Index(['work_year', 'experience_level', 'employment_type', 'job_title',\n",
       "       'salary', 'salary_currency', 'salary_in_usd', 'employee_residence',\n",
       "       'remote_ratio', 'company_location', 'company_size'],\n",
       "      dtype='object')"
      ]
     },
     "execution_count": 3,
     "metadata": {},
     "output_type": "execute_result"
    }
   ],
   "source": [
    "salarios.columns\n"
   ]
  },
  {
   "cell_type": "markdown",
   "id": "ecbbd482-27cf-4c56-922f-9ad151762f86",
   "metadata": {},
   "source": [
    "El conjunto de datos contiene un informe salarial fabricado en el que puedes realizar análisis\n",
    "para tratar de estimar el salario basado en las condiciones dadas. Las columnas son las\n",
    "siguientes:\\\n",
    "● work_year: El año en que se pagó el salario. \\\n",
    "● experience_level: El nivel de experiencia en el trabajo durante el año, con los\n",
    "siguientes valores posibles: EN (nivel de entrada / junior), MI (nivel medio /\n",
    "intermedio), SE (nivel senior / experto), EX (nivel ejecutivo / director).\\\n",
    "● employment_type: El tipo de empleo para el puesto: PT (tiempo parcial), FT (tiempo\n",
    "completo), CT (contrato), FL (trabajo freelance).\\\n",
    "● job_title: El puesto de trabajo desempeñado durante el año.\\\n",
    "● salary: El monto total del salario bruto pagado.\\\n",
    "● salary_currency: La moneda en la que se pagó el salario, utilizando un código de\n",
    "moneda ISO 4217.\\\n",
    "● salary_in_usd: El salario en USD (tipo de cambio dividido por la tasa promedio de\n",
    "USD para el año correspondiente a través de fxdata.foorilla.com).\\\n",
    "● employee_residence: El país de residencia principal del empleado durante el año\n",
    "laboral, utilizando un código de país ISO 3166.\\\n",
    "● remote_ratio: La cantidad total de trabajo realizado de forma remota, con los\n",
    "siguientes valores posibles: 0 (sin trabajo remoto, menos del 20%), 50 (parcialmente\n",
    "remoto), 100 (totalmente remoto, más del 80%).\\\n",
    "● company_location: El país de la oficina principal del empleador o sucursal\n",
    "contratante, utilizando un código de país ISO 3166.\\"
   ]
  },
  {
   "cell_type": "markdown",
   "id": "355cb141-272a-4726-900e-3454ea5adafa",
   "metadata": {},
   "source": [
    "# Se busca realizar un análisis estadístico de estos salarios, considerando:\n",
    "1. El promedio general de los salarios, desviación estándar, quintiles y rango. (hint:\n",
    "escoge la columna adecuada para comparar)\n",
    "2. Una comparación entre los salarios agrupados por 3 diferentes categorías a tu\n",
    "elección. ¿Para cuál de ellas las medidas de tendencia central son más\n",
    "representativas? ¿Para cuál son menos representativas? Explica.\n",
    "3. ¿Qué cargos reciben mejores sueldos en las empresas con sede en Estados Unidos?"
   ]
  },
  {
   "cell_type": "markdown",
   "id": "0ef0c10d-0329-4a91-baa5-e8e59b158224",
   "metadata": {},
   "source": [
    "### 1. El promedio general de los salarios, desviación estándar, quintiles y rango. \n",
    "(hint:escoge la columna adecuada para comparar)"
   ]
  },
  {
   "cell_type": "code",
   "execution_count": 7,
   "id": "80a99cda-40cf-4199-b20a-c071afacc01f",
   "metadata": {},
   "outputs": [],
   "source": [
    "# Se utiliza la columna 'salary_in_usd' ya que posee valores de una moneda comun\n",
    "media = salarios['salary_in_usd'].mean()  # Media\n",
    "desviacion_estandar = salarios['salary_in_usd'].std()  # Desviación estándar\n",
    "minimo = salarios['salary_in_usd'].min()  # Valor mínimo\n",
    "q1=salarios['salary_in_usd'].quantile(0.25)\n",
    "q2=salarios['salary_in_usd'].quantile(0.5)\n",
    "q3=salarios['salary_in_usd'].quantile(0.75)\n",
    "maximo = salarios['salary_in_usd'].max()  # Valor máximo"
   ]
  },
  {
   "cell_type": "code",
   "execution_count": 8,
   "id": "440d6113-6c4d-46db-9d79-aaa34f191988",
   "metadata": {},
   "outputs": [
    {
     "name": "stdout",
     "output_type": "stream",
     "text": [
      "media 137570.38988015978\n",
      "desviacion_estandar 63055.625278224084\n",
      "minimo 5132\n",
      "q1 95000.0\n",
      "q2 135000.0\n",
      "q3 175000.0\n",
      "maximo 450000\n",
      "rango 444868\n"
     ]
    }
   ],
   "source": [
    "print('media', media)\n",
    "print('desviacion_estandar', desviacion_estandar)\n",
    "print('minimo', minimo)\n",
    "print('q1', q1)\n",
    "print('q2', q2)\n",
    "print('q3', q3)\n",
    "print('maximo', maximo)\n",
    "print('rango', (maximo - minimo))"
   ]
  },
  {
   "cell_type": "markdown",
   "id": "40b22237-1285-4bc5-910d-099b087f24f7",
   "metadata": {},
   "source": [
    "### 2. Una comparación entre los salarios agrupados por 3 diferentes categorías a tu elección. \n",
    "¿Para cuál de ellas las medidas de tendencia central son más representativas? ¿Para cuál son menos representativas? Explica."
   ]
  },
  {
   "cell_type": "code",
   "execution_count": 10,
   "id": "b5289e59-d2eb-45b1-8bbb-41a11b0cfc7c",
   "metadata": {
    "scrolled": true
   },
   "outputs": [
    {
     "name": "stdout",
     "output_type": "stream",
     "text": [
      "                           mean    median           std    min     max\n",
      "experience_level                                                      \n",
      "EN                 78546.284375   70000.0  52225.424309   5409  300000\n",
      "EX                194930.929825  196000.0  70661.929661  15000  416000\n",
      "MI                104525.939130  100000.0  54387.685128   5132  450000\n",
      "SE                153051.071542  146000.0  56896.263954   8000  423834\n"
     ]
    }
   ],
   "source": [
    "comparacion_por_experiencia = salarios.groupby('experience_level')['salary_in_usd'].agg(['mean','median','std','min','max'])\n",
    "print(comparacion_por_experiencia)"
   ]
  },
  {
   "cell_type": "code",
   "execution_count": 11,
   "id": "3ab8064f-42de-4db7-8dbc-f34e9f0e1c70",
   "metadata": {},
   "outputs": [
    {
     "name": "stdout",
     "output_type": "stream",
     "text": [
      "                           mean    median           std    min     max\n",
      "company_location                                                      \n",
      "AE                100000.000000  115000.0  30413.812651  65000  120000\n",
      "AL                 10000.000000   10000.0           NaN  10000   10000\n",
      "AM                 50000.000000   50000.0           NaN  50000   50000\n",
      "AR                 25000.000000   13000.0  21656.407828  12000   50000\n",
      "AS                 29351.000000   20000.0  17909.036909  18053   50000\n",
      "...                         ...       ...           ...    ...     ...\n",
      "TH                 23064.333333   24740.0   7370.766333  15000   29453\n",
      "TR                 19058.000000   20171.0   7861.477056  10000   28016\n",
      "UA                 57850.000000   55000.0  38974.649881  13400  108000\n",
      "US                151822.009539  145000.0  56018.538978   5679  450000\n",
      "VN                 12000.000000   12000.0           NaN  12000   12000\n",
      "\n",
      "[72 rows x 5 columns]\n"
     ]
    }
   ],
   "source": [
    "comparacion_por_ubicacion = salarios.groupby('company_location')['salary_in_usd'].agg(['mean','median','std','min','max'])\n",
    "print(comparacion_por_ubicacion)"
   ]
  },
  {
   "cell_type": "code",
   "execution_count": 12,
   "id": "060e08d0-ad69-45ac-9b5d-e83faf7104e7",
   "metadata": {
    "scrolled": true
   },
   "outputs": [
    {
     "name": "stdout",
     "output_type": "stream",
     "text": [
      "                          mean    median            std    min     max\n",
      "employment_type                                                       \n",
      "CT               113446.900000   75000.0  130176.746842   7500  416000\n",
      "FL                51807.800000   50000.0   29458.879336  12000  100000\n",
      "FT               138314.199570  135000.0   62452.177613   5132  450000\n",
      "PT                39533.705882   21669.0   38312.145181   5409  125404\n"
     ]
    }
   ],
   "source": [
    "comparacion_por_tipoempleo = salarios.groupby('employment_type')['salary_in_usd'].agg(['mean','median','std','min','max'])\n",
    "print(comparacion_por_tipoempleo)"
   ]
  },
  {
   "cell_type": "markdown",
   "id": "58af8ef3-91cc-42a5-9def-9f407ee61c43",
   "metadata": {},
   "source": [
    "### Respuesta: \n",
    "Comparacion por experiencia es la que tiene mayor representatividad ya que existe una similitud entre la media y la mediana, lo cual demuestra que ambas se encuentran cerca del centro de la muestra. Esto se condice con la idea de que los salarios estan directamente asociados a la experiencia de los empleados y por lo tanto no deberían haber datos tan disimiles. \n",
    "En cambio la ubicacion de las empresas y el tipo de empleo no entrega resultados tan homogéneos. En el caso de tipo de empleo, entre FT y FL hay buena representatividad, pero en los otros hay grandes diferencias y debe haber datos que se separan mucho de la media, por lo tanto tiene una representatividad mixta.\n",
    "En salarios por ubcacionm, Hay diferencias significativas entre media y mediana para varios paises, lo caul revela una cola en los resultados y no muy buena representatividad. Tambien hay muchos paises sin datos. Depende mucho de la cantidad de datos y la homogeneidad de los paises (Ej nivel de desarrollo) "
   ]
  },
  {
   "cell_type": "markdown",
   "id": "6795446b-36e6-4135-863c-edcb7d19c204",
   "metadata": {},
   "source": [
    "### 3. ¿Qué cargos reciben mejores sueldos en las empresas con sede en Estados Unidos?\n"
   ]
  },
  {
   "cell_type": "code",
   "execution_count": 15,
   "id": "635e089e-e615-49d4-af9a-ace9d2c2197e",
   "metadata": {
    "scrolled": true
   },
   "outputs": [
    {
     "data": {
      "text/html": [
       "<div>\n",
       "<style scoped>\n",
       "    .dataframe tbody tr th:only-of-type {\n",
       "        vertical-align: middle;\n",
       "    }\n",
       "\n",
       "    .dataframe tbody tr th {\n",
       "        vertical-align: top;\n",
       "    }\n",
       "\n",
       "    .dataframe thead tr th {\n",
       "        text-align: left;\n",
       "    }\n",
       "\n",
       "    .dataframe thead tr:last-of-type th {\n",
       "        text-align: right;\n",
       "    }\n",
       "</style>\n",
       "<table border=\"1\" class=\"dataframe\">\n",
       "  <thead>\n",
       "    <tr>\n",
       "      <th></th>\n",
       "      <th>mean</th>\n",
       "      <th>median</th>\n",
       "    </tr>\n",
       "    <tr>\n",
       "      <th></th>\n",
       "      <th>salary_in_usd</th>\n",
       "      <th>salary_in_usd</th>\n",
       "    </tr>\n",
       "    <tr>\n",
       "      <th>job_title</th>\n",
       "      <th></th>\n",
       "      <th></th>\n",
       "    </tr>\n",
       "  </thead>\n",
       "  <tbody>\n",
       "    <tr>\n",
       "      <th>Data Analytics Lead</th>\n",
       "      <td>405000.000000</td>\n",
       "      <td>405000.0</td>\n",
       "    </tr>\n",
       "    <tr>\n",
       "      <th>Data Science Tech Lead</th>\n",
       "      <td>375000.000000</td>\n",
       "      <td>375000.0</td>\n",
       "    </tr>\n",
       "    <tr>\n",
       "      <th>Director of Data Science</th>\n",
       "      <td>294375.000000</td>\n",
       "      <td>287500.0</td>\n",
       "    </tr>\n",
       "    <tr>\n",
       "      <th>Principal Data Scientist</th>\n",
       "      <td>255500.000000</td>\n",
       "      <td>227500.0</td>\n",
       "    </tr>\n",
       "    <tr>\n",
       "      <th>Cloud Data Architect</th>\n",
       "      <td>250000.000000</td>\n",
       "      <td>250000.0</td>\n",
       "    </tr>\n",
       "    <tr>\n",
       "      <th>Applied Data Scientist</th>\n",
       "      <td>238000.000000</td>\n",
       "      <td>177000.0</td>\n",
       "    </tr>\n",
       "    <tr>\n",
       "      <th>Head of Data</th>\n",
       "      <td>233183.333333</td>\n",
       "      <td>220000.0</td>\n",
       "    </tr>\n",
       "    <tr>\n",
       "      <th>Machine Learning Software Engineer</th>\n",
       "      <td>217400.000000</td>\n",
       "      <td>180000.0</td>\n",
       "    </tr>\n",
       "    <tr>\n",
       "      <th>Data Lead</th>\n",
       "      <td>212500.000000</td>\n",
       "      <td>212500.0</td>\n",
       "    </tr>\n",
       "    <tr>\n",
       "      <th>Head of Data Science</th>\n",
       "      <td>202355.000000</td>\n",
       "      <td>195800.0</td>\n",
       "    </tr>\n",
       "  </tbody>\n",
       "</table>\n",
       "</div>"
      ],
      "text/plain": [
       "                                             mean        median\n",
       "                                    salary_in_usd salary_in_usd\n",
       "job_title                                                      \n",
       "Data Analytics Lead                 405000.000000      405000.0\n",
       "Data Science Tech Lead              375000.000000      375000.0\n",
       "Director of Data Science            294375.000000      287500.0\n",
       "Principal Data Scientist            255500.000000      227500.0\n",
       "Cloud Data Architect                250000.000000      250000.0\n",
       "Applied Data Scientist              238000.000000      177000.0\n",
       "Head of Data                        233183.333333      220000.0\n",
       "Machine Learning Software Engineer  217400.000000      180000.0\n",
       "Data Lead                           212500.000000      212500.0\n",
       "Head of Data Science                202355.000000      195800.0"
      ]
     },
     "execution_count": 15,
     "metadata": {},
     "output_type": "execute_result"
    }
   ],
   "source": [
    "# Filtramos empresas en Estados Unidos\n",
    "sal_us = salarios[salarios['company_location'] == 'US']\n",
    "\n",
    "# Creamos tabla pivote para ver las medidas de tendencia central de los empleos\n",
    "pivot_us = pd.pivot_table(\n",
    "    sal_us,\n",
    "    values='salary_in_usd',\n",
    "    index='job_title',\n",
    "    aggfunc=['mean', 'median']\n",
    ")\n",
    "\n",
    "# Orden descendente\n",
    "pivot_us = pivot_us.sort_values(('mean','salary_in_usd'), ascending=False)\n",
    "\n",
    "# Mostrar los 10 cargos mejor pagados\n",
    "pivot_us.head(10)\n"
   ]
  },
  {
   "cell_type": "markdown",
   "id": "40c49093-d4b3-4927-9965-624ab01849da",
   "metadata": {},
   "source": [
    "Los cargos mejor pagados en Estados Unidos son Data Analytics Lead, Data Science Tech Lead y Director of Data Science"
   ]
  },
  {
   "cell_type": "code",
   "execution_count": 17,
   "id": "b672abb3-ebe7-44f6-865b-62616b459700",
   "metadata": {},
   "outputs": [],
   "source": [
    "# Supongamos que tu DataFrame se llama pivot_us\n",
    "pivot_us.to_csv(\"cargos_mejor_pagados_US.csv\", index=True)\n"
   ]
  },
  {
   "attachments": {},
   "cell_type": "markdown",
   "id": "1a6f2c95-f6b2-4343-b4fb-f438a2b5703e",
   "metadata": {},
   "source": [
    "Se adjunta imagen de Power BI mostrando esta misma informacion\n"
   ]
  },
  {
   "cell_type": "code",
   "execution_count": null,
   "id": "19096b72-80f4-4165-acf1-ed76846f1666",
   "metadata": {},
   "outputs": [],
   "source": []
  }
 ],
 "metadata": {
  "kernelspec": {
   "display_name": "Python 3 (ipykernel)",
   "language": "python",
   "name": "python3"
  },
  "language_info": {
   "codemirror_mode": {
    "name": "ipython",
    "version": 3
   },
   "file_extension": ".py",
   "mimetype": "text/x-python",
   "name": "python",
   "nbconvert_exporter": "python",
   "pygments_lexer": "ipython3",
   "version": "3.12.7"
  }
 },
 "nbformat": 4,
 "nbformat_minor": 5
}
